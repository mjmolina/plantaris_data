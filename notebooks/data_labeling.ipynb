{
 "cells": [
  {
   "cell_type": "markdown",
   "metadata": {},
   "source": [
    "# Plantaris Data - Data labeling system"
   ]
  },
  {
   "cell_type": "markdown",
   "metadata": {},
   "source": [
    "The **data labeling process** is hard and tedious. In this notebook you are going to implement a system to simplify this process. \n",
    "\n",
    "The data from the sensors DHT22 (temperature and relative humidity) and soil moisture was collected and save it in a .CSV file."
   ]
  },
  {
   "cell_type": "markdown",
   "metadata": {},
   "source": [
    "### Import libraries "
   ]
  },
  {
   "cell_type": "code",
   "execution_count": 24,
   "metadata": {},
   "outputs": [
    {
     "name": "stdout",
     "output_type": "stream",
     "text": [
      "DataFrame loaded\n",
      "The file doesn't have a 'category' column, creating it\n"
     ]
    }
   ],
   "source": [
    "import os\n",
    "import csv\n",
    "import random\n",
    "from datetime import datetime\n",
    "import pandas as pd\n",
    "import ipywidgets as widgets\n",
    "from IPython.display import clear_output\n",
    "\n",
    "filename = \"temp_hum_processed.csv\"\n",
    "df = None\n",
    "row = None\n",
    "\n",
    "if os.path.isfile(filename):\n",
    "    df = pd.read_csv(filename, sep=\";\")\n",
    "    print(\"DataFrame loaded\")\n",
    "else:\n",
    "    print(f\"ERROR: filename '{filename}' doesn't exist.\")\n",
    "\n",
    "if \"category\" not in df.columns:\n",
    "    print(\"The file doesn't have a 'category' column, creating it\")\n",
    "    df[\"category\"] = None"
   ]
  },
  {
   "cell_type": "markdown",
   "metadata": {},
   "source": [
    "### Widgets Creation"
   ]
  },
  {
   "cell_type": "code",
   "execution_count": 21,
   "metadata": {},
   "outputs": [],
   "source": [
    "## Widgets\n",
    "out = widgets.Output()\n",
    "\n",
    "# Image Widget\n",
    "w_image = widgets.Image(\n",
    "        format='png',\n",
    "        width=600,\n",
    "        height=800,\n",
    "    )\n",
    "\n",
    "# Text for values\n",
    "w_temperature = widgets.Text(\n",
    "    description='Temperature:',\n",
    "    disabled=True,\n",
    ")\n",
    "\n",
    "w_humidity = widgets.Text(\n",
    "    description='Humidity:',\n",
    "    disabled=True,\n",
    ")\n",
    "\n",
    "w_moisture = widgets.Text(\n",
    "    description='Moisture:',\n",
    "    disabled=True,\n",
    ")\n",
    "\n",
    "# Buttons Widgets\n",
    "save_button = widgets.Button(\n",
    "    description=\"Save\",\n",
    "    icon='check',\n",
    "    button_style=\"info\"\n",
    ")\n",
    "b1 = widgets.Button(\n",
    "    description='Ok',\n",
    "    button_style=\"success\"\n",
    ")\n",
    "b2 = widgets.Button(\n",
    "    description='Watering Problem',\n",
    "    button_style=\"warning\"\n",
    ")\n",
    "b3 = widgets.Button(\n",
    "    description='Other',\n",
    "    button_style=\"\"\n",
    ")\n",
    "b4 = widgets.Button(\n",
    "    description='Discard',\n",
    "    button_style=\"danger\"\n",
    ")\n"
   ]
  },
  {
   "cell_type": "markdown",
   "metadata": {},
   "source": [
    "### Images, process options and buttons"
   ]
  },
  {
   "cell_type": "code",
   "execution_count": 22,
   "metadata": {},
   "outputs": [],
   "source": [
    "## Get the next image to evaluate\n",
    "def get_next_image():\n",
    "    global row\n",
    "    # Get random row that doesn't have a \"category\"\n",
    "    # This will return a list of the values, so we need to\n",
    "    # remember the order:\n",
    "    # date;temperature;humidity;moisture\n",
    "    try:\n",
    "        row = df[df.category.isna()].sample(1).values[0]\n",
    "        image = None\n",
    "        with open(f\"photos/{row[0]}.png\", \"rb\") as f:\n",
    "            image = f.read()\n",
    "        return image, str(row[1]), str(row[2]), str(row[3])\n",
    "    except:\n",
    "        print(\"Nothing to do. Click on Save!\")\n",
    "        with open(f\"plantaris.jpg\", \"rb\") as f:\n",
    "            image = f.read()\n",
    "        return image, \"\", \"\", \"\"\n",
    "    \n",
    "def process_option(cat):\n",
    "    if cat == \"Ok\":\n",
    "        print(\"-- Ok\")\n",
    "    elif cat == \"Watering Problem\":\n",
    "        print(\"-- Watering Problem\")\n",
    "    elif cat == \"Other\":\n",
    "        print(\"-- Other\")\n",
    "    elif cat == \"Discard\":\n",
    "        print(\"-- Discard\")\n",
    "    \n",
    "    # Important\n",
    "    # Here we will change the value of the dataframe on\n",
    "    # the category column.\n",
    "    df.loc[df[\"date\"] == row[0], \"category\"] = cat\n",
    "    w_image.value, w_temperature.value, w_humidity.value, w_moisture.value = get_next_image()\n",
    "\n",
    "# Action for the Buttons\n",
    "def on_button_clicked(_):\n",
    "    # \"linking function with output\"\n",
    "    with out:\n",
    "        # what happens when we press the button\n",
    "        clear_output()\n",
    "        cat = _.description\n",
    "        process_option(_.description)\n",
    "        \n",
    "def on_save_button_clicked(_):\n",
    "    clear_output()\n",
    "    stamp = datetime.now().strftime(\"%Y_%m_%d-%H:%M:%S\")\n",
    "    filename_bak = f\"{filename}_{stamp}\"\n",
    "    print(f\"Backing up {filename} into {filename_bak}\")\n",
    "    os.rename(filename, filename_bak)\n",
    "    df.to_csv(filename, sep=\";\", index=False, quoting=csv.QUOTE_NONNUMERIC)\n",
    "\n",
    "# Initial image\n",
    "w_image.value, w_temperature.value, w_humidity.value, w_moisture.value = get_next_image()    \n",
    "\n",
    "# Connecting the buttons\n",
    "b1.on_click(on_button_clicked)\n",
    "b2.on_click(on_button_clicked)\n",
    "b3.on_click(on_button_clicked)\n",
    "b4.on_click(on_button_clicked)\n",
    "save_button.on_click(on_save_button_clicked)\n"
   ]
  },
  {
   "cell_type": "markdown",
   "metadata": {},
   "source": [
    "### Output to evaluate"
   ]
  },
  {
   "cell_type": "code",
   "execution_count": 23,
   "metadata": {
    "scrolled": true
   },
   "outputs": [
    {
     "data": {
      "application/vnd.jupyter.widget-view+json": {
       "model_id": "a9afb74724974a9dabe6d6bedb9e4da4",
       "version_major": 2,
       "version_minor": 0
      },
      "text/plain": [
       "HBox(children=(VBox(children=(Image(value=b'\\x89PNG\\r\\n\\x1a\\n\\x00\\x00\\x00\\rIHDR\\x00\\x00\\x02\\x80\\x00\\x00\\x01\\xe…"
      ]
     },
     "metadata": {},
     "output_type": "display_data"
    }
   ],
   "source": [
    "# Output, and widgets distribution.\n",
    "def make_boxes():\n",
    "    vbox1 = widgets.VBox([w_image, out])\n",
    "    vbox2 = widgets.VBox([widgets.Label('Information'),\n",
    "                          widgets.VBox([w_temperature, w_humidity, w_moisture]),\n",
    "                          widgets.HBox([b1, b2, b3, b4]),\n",
    "                          save_button])\n",
    "    return vbox1, vbox2\n",
    "vbox1, vbox2 = make_boxes()\n",
    "widgets.HBox([vbox1, vbox2])"
   ]
  },
  {
   "cell_type": "code",
   "execution_count": null,
   "metadata": {},
   "outputs": [],
   "source": []
  }
 ],
 "metadata": {
  "kernelspec": {
   "display_name": "Python 3",
   "language": "python",
   "name": "python3"
  },
  "language_info": {
   "codemirror_mode": {
    "name": "ipython",
    "version": 3
   },
   "file_extension": ".py",
   "mimetype": "text/x-python",
   "name": "python",
   "nbconvert_exporter": "python",
   "pygments_lexer": "ipython3",
   "version": "3.8.5"
  }
 },
 "nbformat": 4,
 "nbformat_minor": 4
}
