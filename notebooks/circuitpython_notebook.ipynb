{
 "cells": [
  {
   "cell_type": "markdown",
   "metadata": {},
   "source": [
    "# Watering system with CircuitPython "
   ]
  },
  {
   "cell_type": "code",
   "execution_count": 8,
   "metadata": {},
   "outputs": [
    {
     "name": "stdout",
     "output_type": "stream",
     "text": [
      "(sysname='samd21', nodename='samd21', release='4.1.2', version='4.1.2 on 2019-12-18', machine='Adafruit CircuitPlayground Express with samd21g18')\r\n"
     ]
    }
   ],
   "source": [
    "# imports for watering system \n",
    "import time\n",
    "import digitalio\n",
    "import touchio\n",
    "import board\n",
    "import os\n",
    "print(os.uname())"
   ]
  },
  {
   "cell_type": "code",
   "execution_count": 9,
   "metadata": {},
   "outputs": [
    {
     "name": "stderr",
     "output_type": "stream",
     "text": [
      "Keyboard Interrupt"
     ]
    }
   ],
   "source": [
    "# We connect the relay to the A0 port on the CPX\n",
    "relay = digitalio.DigitalInOut(board.A0)\n",
    "\n",
    "# Since the INPUT mode is by default, we change to OUTPUT,\n",
    "# to be able to send instructions to it.\n",
    "relay.switch_to_output()\n",
    "\n",
    "# The moisture sensors is on the A1 port\n",
    "touch = touchio.TouchIn(board.A1)\n",
    "# The relay was configure to use the Always Close gate,\n",
    "# so we need to set it as true for the relay to be inactive.\n",
    "relay.value = True\n",
    "\n",
    "# Period of time to check the system\n",
    "wait_time = 1\n",
    "\n",
    "# Perior of time to keep watering the plant\n",
    "# This heavily depends on the voltage feeding the pump,\n",
    "# and its power.\n",
    "watering_time = 1\n",
    "\n",
    "# This needs to be adapted according the moisture sensor\n",
    "dry_value = 4000\n",
    "\n",
    "while True:\n",
    "    \n",
    "    # Read value\n",
    "    sensor_value = touch.raw_value\n",
    "    print(\"Sensor value:\", sensor_value)\n",
    "\n",
    "    if sensor_value < dry_value:\n",
    "        print(\"Starting watering...\")\n",
    "        # We connect the relay on the \"always closed\"\n",
    "        # and that is why adding a Falso to \"always closed\"\n",
    "        # means Open.\n",
    "        relay.value = False\n",
    "        time.sleep(watering_time)\n",
    "        print(\"Finishing watering.\")\n",
    "    else:\n",
    "        # if the level is OK, we just make sure the relay is closed,\n",
    "        # and we sleep until the next period.\n",
    "        relay.value = True\n",
    "        time.sleep(wait_time)"
   ]
  },
  {
   "cell_type": "code",
   "execution_count": null,
   "metadata": {},
   "outputs": [],
   "source": []
  }
 ],
 "metadata": {
  "kernelspec": {
   "display_name": "CircuitPython",
   "language": "python",
   "name": "circuitpython"
  },
  "language_info": {
   "codemirror_mode": {
    "name": "python",
    "version": 3
   },
   "file_extension": ".py",
   "mimetype": "text/x-python",
   "name": "python",
   "pygments_lexer": "python3",
   "version": "3"
  }
 },
 "nbformat": 4,
 "nbformat_minor": 4
}
